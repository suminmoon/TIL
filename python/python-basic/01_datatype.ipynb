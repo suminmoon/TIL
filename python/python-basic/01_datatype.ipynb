{
 "cells": [
  {
   "cell_type": "code",
   "execution_count": 1,
   "metadata": {},
   "outputs": [
    {
     "name": "stdout",
     "output_type": "stream",
     "text": [
      "<class 'list'>\n",
      "1\n",
      "[1]\n",
      "!!\n",
      "[1, 4, 7]\n",
      "range(1, 10, 3)\n"
     ]
    }
   ],
   "source": [
    "# python의 자료구조\n",
    "# list ( 기본 python에는 배열이 없어요!! )\n",
    "# Java의 ArrayList와 상당히 유사\n",
    "# 임의의 객체를 순서대로 저장하는 집합 자료형\n",
    "# 표현방법은 [ ] 를 이용 ( 대괄호 )\n",
    "my_list = list()  # list() 내장함수를 이용해서 list 생성\n",
    "print(type(my_list)) # list의 data type을 확인\n",
    "my_list = [1,2,3,4]\n",
    "my_list =[1,3.14,\"Hello\",True] #list의 요소는 다른 데이터 타입을 사용할 수 있다.\n",
    "my_list =[1,2,[\"show\",\"me\",\"the\",\"money!!\"],3.14,True]  #lislt안에 list가 올 수 있다.\n",
    "\n",
    "#list에 대해서 indexing을 할 수 있어요\n",
    "print(my_list[0])   #1이 출력, type => class itn\n",
    "# list에 대해서 slicing을 할 수 있어요!\n",
    "print(my_list[0:1])    #list 형식으로 slicing 돼요\n",
    "# !! 두 개만 출력하려고 해요!!\n",
    "print(my_list[2][3][-2:])   #앞에 2는 전체 리스트에서 showmethemoney부분 뽑고, 뽑은 게 리스트가 되어서 3은 money!!이고 \n",
    "                                                                                                #여기서 뒤에서 2부터 전체 뽑기\n",
    "\n",
    "#list와 같이 많이 사용되는 내장 함수가 하나 있다.\n",
    "#range()   #range도 많이 사용되기 때문에 잘 알아두기!! 시작과 끝 영역을 잡는 함수 (영역함수)\n",
    "my_range=range(10)    # 0부터 9까지 1씩 증가하는 range\n",
    "my_range=range(1,10)  # 1부터 9까지 1씩 증가하는 range\n",
    "my_range=range(1,10,3)  # 1부터 9까지 3씩 증가하는 range\n",
    "my_list = list(my_range)\n",
    "print(my_list)\n",
    "print(my_range)"
   ]
  },
  {
   "cell_type": "code",
   "execution_count": 31,
   "metadata": {},
   "outputs": [
    {
     "name": "stdout",
     "output_type": "stream",
     "text": [
      "[5]\n"
     ]
    }
   ],
   "source": [
    "#list의 기본 연산\n",
    "a = [1,2,3]\n",
    "b=[4,5,6]\n",
    "\n",
    "result= a +b    # \"+\" 연산은 연결의 의미\n",
    "result= a *3    # \"*\" 연산 역시 연결의 의미\n",
    "\n",
    "a = [1,2,3,4,5]\n",
    "a[0] =[9,9,9] #indexing :a의 0번째를 [9,9,9]로 바꿔라. 전체를 잘라서 붙이기   [[9, 9, 9], 2, 3, 4, 5]\n",
    "a[0:1] = [9,9,9]  #값만 끼워넣기   [9, 9, 9, 2, 3, 4, 5]\n",
    "\n",
    "a = [1,2,3,4,5]\n",
    "#a[0:-1] = []   # 0부터 -1자리(5) 전까지(뒤에는 포함되지 않음)를 삭제  [5]\n",
    "#del a[0]       #indexing을 이용해서 삭제\n",
    "del a[0:-1]    # slicing을 이용해서 삭제  [5]\n",
    "print(a)"
   ]
  },
  {
   "cell_type": "code",
   "execution_count": 40,
   "metadata": {},
   "outputs": [
    {
     "name": "stdout",
     "output_type": "stream",
     "text": [
      "[0, 2, 5, 7, 8]\n",
      "[8, 7, 5, 2, 0]\n",
      "3\n"
     ]
    }
   ],
   "source": [
    "#list가 가지고 있는 함수들\n",
    "my_list=[1,2,3]\n",
    "#my_list.append(4)  #list의 마지막 요소에 추가\n",
    "#my_list.append([9,9,9])  #list의 마지막 요소에 전체 추가 [1, 2, 3, [9, 9, 9]]\n",
    "my_list.extend([9,9,9])   #list 확장   [1, 2, 3, 9, 9, 9]\n",
    "\n",
    "my_list=[5,8,2,7,0]\n",
    "result = my_list.sort()   # 오름차순 정렬 \n",
    "                             #소팅된 결과를 리턴하지 않아요 (원본을 바꾸고 리턴시키지 않는다) list원본을 정렬\n",
    "\n",
    "print(my_list)\n",
    "my_list.reverse()    #list안의 요소를 역순으로 배치\n",
    "                     #리턴하지 않고 원본을 변경\n",
    "print(my_list)\n",
    "\n",
    "# 위치를 알아내는 함수( index() )\n",
    "my_list=[5,8,2,7,0]\n",
    "print(my_list.index(7))"
   ]
  },
  {
   "cell_type": "code",
   "execution_count": 45,
   "metadata": {},
   "outputs": [
    {
     "data": {
      "text/plain": [
       "[1, 2]"
      ]
     },
     "execution_count": 45,
     "metadata": {},
     "output_type": "execute_result"
    }
   ],
   "source": [
    "# list의 추가적인 함수들\n",
    "a = [1,2,3]\n",
    "a.insert(0,100)     #list안에 원하는 위치에 원하는 값을 추가하고자 할 때 사용\n",
    "\n",
    "a=[1,2,3,1,2,3,1,2,3]\n",
    "a.remove(3)         #list안에서 삭제하고자 하는 것을 처음 발견한 것만 삭제   [1, 2, 1, 2, 3, 1, 2, 3]\n",
    "\n",
    "a=[1,2,3]\n",
    "result =a.pop()    # list의 마지막 요소를 뜯어오는 함수 (마지막 값 삭제)\n"
   ]
  },
  {
   "cell_type": "code",
   "execution_count": 53,
   "metadata": {},
   "outputs": [
    {
     "name": "stdout",
     "output_type": "stream",
     "text": [
      "True\n",
      "False\n",
      "False\n"
     ]
    }
   ],
   "source": [
    "a = [1,2,3] #[1,2,3] => list 객체 => 메모리 어딘가에(Heap) 저장되어 있다\n",
    "            # a는 list 객체의 시작 메모리 주소에 대한 reference를 가지고 있다.\n",
    "            # a는 reference variable이라고 한다\n",
    "#id(a)      # id() 함수는 reference값을 알아내는 함수\n",
    "b=a\n",
    "print(a is b)  #True\n",
    "               #a와 b가 같은 객체 reference\n",
    "    \n",
    "b= a[:]         #slicing 처음과 끝을 명시하지 않으면 전체의 값을 가져옴\n",
    "print( a is b)   # False\n",
    "                # a와 b가 서로 다른 객체 reference /\n",
    "                #객체(reference)가 같냐 다르냐는 is 사용/ 값이 같은지는 = 사용\n",
    "    \n",
    "from copy import copy\n",
    "a = [1,2,3]\n",
    "b= copy(a)\n",
    "print(a is b)   #False\n",
    "                #a와 b가 서로 다른 객체 reference"
   ]
  },
  {
   "cell_type": "code",
   "execution_count": 82,
   "metadata": {},
   "outputs": [
    {
     "data": {
      "text/plain": [
       "(1, 2, 3)"
      ]
     },
     "execution_count": 82,
     "metadata": {},
     "output_type": "execute_result"
    }
   ],
   "source": [
    "#python의 자료구조 중 list와 상당히 유사\n",
    "#튜플 (tuple)\n",
    "#list와 거의 유사\n",
    "#기호 :()  => 소괄호\n",
    "#list는 list안의 값의 수정과 삭제가 가능\n",
    "#tuple은 tuple안의 값 수정과 삭제가 불가능\n",
    "\n",
    "my_tuple = (1,2,3)   #튜플을 literal\n",
    "my_tuple=(1,)         #원소가 1개 있는 literal\n",
    "my_tuple=(1, 3.14, \"hello\")    #일반적인 경우\n",
    "my_tuple = 1,2,3      #tuple은 () 생략 가능\n",
    "\n",
    "#(a,b,c)=(1,2,3)\n",
    "#a,b,c=(1,2,3)\n",
    "#(a,b,c)=1,2,3\n",
    "\n",
    "my_tuple =1,2,3,4,5,6    #tuple은 () 생략 가능\n",
    "my_tuple[1]             #tuple에 대한 indexing\n",
    "my_tuple[1:3]           #tuple에 대한 slicing\n",
    "\n",
    "my_tuple = 1,2,3\n",
    "result = my_tuple + (4,5,6)   # 튜플 자체의 변화가 아닌 \"\"+\"연산을 통한 확장된 result로 만든다\n",
    "result    #(1,2,3,4,5,6)\n",
    "my_tuple  #(1,2,3)\n"
   ]
  },
  {
   "cell_type": "code",
   "execution_count": 58,
   "metadata": {},
   "outputs": [
    {
     "data": {
      "text/plain": [
       "['hello', 'world', '!!']"
      ]
     },
     "execution_count": 58,
     "metadata": {},
     "output_type": "execute_result"
    }
   ],
   "source": [
    "# list와 tuple간의 변환\n",
    "my_list = [1,2,3]\n",
    "my_tuple = tuple(my_list)\n",
    "my_tuple\n",
    "\n",
    "my_tuple = (\"hello\", \"world\", \"!!\")\n",
    "my_list=list(my_tuple)\n",
    "my_list              #튜플 사용하다가 수정 삭제가 필요하면 \n",
    "                   #list로 변환해서 수정 삭제할 때 사용할 수 있다.\n"
   ]
  },
  {
   "cell_type": "code",
   "execution_count": 66,
   "metadata": {
    "scrolled": true
   },
   "outputs": [
    {
     "name": "stdout",
     "output_type": "stream",
     "text": [
      "<class 'dict'>\n"
     ]
    },
    {
     "data": {
      "text/plain": [
       "{'age': 40, 'name': '홍길동'}"
      ]
     },
     "execution_count": 66,
     "metadata": {},
     "output_type": "execute_result"
    }
   ],
   "source": [
    "# python에서 사용되는 map\n",
    "# python에서는 dictionary라고 표현한다\n",
    "# dictionary는 {}로 표현하고 key와 value의 쌍으로 표현 => 순서가 의미없다 \n",
    "#key, value 값을 어떤 걸 먼저 뽑아올지 모름. 내가 정할수도 없음\n",
    "# literal의 형태가 => \"JSON\"처럼 생겼다\n",
    "my_dict= {\"name\" :\"홍길동\", \"address\" :\"서울\"}\n",
    "print(type(my_dict))         #{'address': '서울', 'name': '홍길동'}\n",
    "my_dict[\"age\"] = 50          # 배열 행태로 사용 가능    {'address': '서울', 'age': 50, 'name': '홍길동'}\n",
    "                             # 동적으로 key와 value를 추가, 수정, 삭제할 수 있다. key가 없으면 추가해서 나타냄\n",
    "del my_dict[\"address\"]      # \"address\" key 삭제   {'age': 50, 'name': '홍길동'}\n",
    "my_dict[\"name\"]\n",
    "#key가 중복될 수는 없다. 하나 무시\n",
    "my_dict = {\"name\":\"홍길동\", \"age\": 20, \"age\":40}\n",
    "my_dict\n"
   ]
  },
  {
   "cell_type": "code",
   "execution_count": 1,
   "metadata": {},
   "outputs": [
    {
     "name": "stdout",
     "output_type": "stream",
     "text": [
      "age\n",
      "address\n",
      "name\n",
      "20\n",
      "서울\n",
      "홍길동\n",
      "age,20\n",
      "address,서울\n",
      "name,홍길동\n",
      "홍길동\n",
      "홍길동\n",
      "이름없음\n",
      "True\n"
     ]
    }
   ],
   "source": [
    "#dictionary의 일반적인 사용법\n",
    "#3가지 method를 이용해서 사용한다\n",
    "#keys() => dictionary의 key들을 dict_keys라는 type으로 return.\n",
    "#list와 상당히 유사. 하지만 list는 아니기 때문에 list함수 사용 불가\n",
    "my_dict = {\"name\":\"홍길동\", \"age\": 20, \"address\": \"서울\"}\n",
    "\n",
    "#python에서 block은 indentation(들여쓰기 스페이스 4칸으로 표현)으로 표시\n",
    "for tmp in my_dict.keys():\n",
    "    print(\"{}\".format(tmp))   #.format() 괄호 안에 있는 타입으로 데이터 뽑아내서 앞에 {}에 저장된다는 의미 \n",
    "    #print(tmp)\n",
    "    #values()라는 함수는 dictionary에서 value만 추출\n",
    "for tmp in my_dict.values():\n",
    "    print(\"{}\".format(tmp))   \n",
    "#items()라는 함수는 dictionary에서 (key, value) 추출\n",
    "for (key,value) in my_dict.items():\n",
    "    print(\"{},{}\".format(key, value))   \n",
    "    \n",
    "#dictionary에서 값을 추출할 때는 2가지 방식\n",
    "my_dict = {\"name\":\"홍길동\", \"age\": 20, \"address\": \"서울\"}\n",
    "print(my_dict[\"name\"])       #홍길동\n",
    "print(my_dict.get(\"name\"))   #함수를 이용해서 사용  / 홍길동\n",
    "print(my_dict.get(\"name11\",\"이름없음\"))    #함수를 이용해서  / 찾는 key가 없으면 뒤에 값으로 추출 / 이름없음\n",
    "print(\"age\" in my_dict)      #True, my_dict의 key중에 내가 찾고자 하는게 있는지\n",
    "\n",
    "my_dict.clear()              #모두 삭제"
   ]
  },
  {
   "cell_type": "code",
   "execution_count": 25,
   "metadata": {},
   "outputs": [
    {
     "data": {
      "text/plain": [
       "{1, 2, 3, 10, 20}"
      ]
     },
     "execution_count": 25,
     "metadata": {},
     "output_type": "execute_result"
    }
   ],
   "source": [
    "#set data type\n",
    "#{ } : 중괄호를 이용해서 set 표현\n",
    "#{1,3,5,\"hello\"}\n",
    "#중복을 배제, 순서가 없는 집합형 자료구조\n",
    "s ={1,2,3}   #set의 literal\n",
    "s= set([1,2,3,4,5])\n",
    "s = set(\"hello\")\n",
    "\n",
    "s1 = {1,2,3,4,5,6}\n",
    "s2 = {3,4,5,6,7,8,9}\n",
    "s3 = s1 & s2              # s1.intersection(s2) , 교집합\n",
    "s3 = s1| s2               # s1.union(s2) , 합집합\n",
    "s3 = s1-s2                # s1.difference(s2) , 차집합\n",
    "s={1,2,3}\n",
    "s.add(10)                 # set에 요소 1개를 추가하고 싶을 때\n",
    "s.update([10,20,30])      # set에 요소를 여러개 추가할 때\n",
    "s.remove(30)              # 삭ㅈㅔ\n",
    "s"
   ]
  },
  {
   "cell_type": "code",
   "execution_count": null,
   "metadata": {},
   "outputs": [],
   "source": [
    "#bool  (True, False)\n",
    "#python은 다음과 같은 경우에 False로 간주\n",
    "#False keyword\n",
    "#빈 문자열 (\"\") => False로 간주, \"2aa\" => True\n",
    "#빈 list ( [] ) => False로 간주\n",
    "#빈 tuple ( () ) => False로 간주\n",
    "#빈 dictionary ( {} ) => False로 간주\n",
    "#숫자 0은 False,  나머지 숫자 True 간주\n",
    "# None => False로 간주\n",
    "``"
   ]
  },
  {
   "cell_type": "code",
   "execution_count": 26,
   "metadata": {},
   "outputs": [
    {
     "name": "stdout",
     "output_type": "stream",
     "text": [
      "부산은 있어요\n"
     ]
    }
   ],
   "source": [
    "# if문의 형식  \n",
    "area =[\"서울\",\"인천\",\"부산\"]\n",
    "if \"제주\" in area:\n",
    "    #참일경우 code 작성\n",
    "    pass     # 코드를 작성할 것이 없을 때\n",
    "elif \"부산\"in area:\n",
    "    print(\"부산은 있어요\")\n",
    "else:\n",
    "    print(\"부산은 없어요\")\n",
    "    \n",
    "    "
   ]
  },
  {
   "cell_type": "code",
   "execution_count": 28,
   "metadata": {},
   "outputs": [
    {
     "name": "stdout",
     "output_type": "stream",
     "text": [
      "사용자 입력을 받아요123\n",
      "123\n"
     ]
    }
   ],
   "source": [
    "# 입력을 받고 싶어요\n",
    "# 입력 받은 내용은 무조건 문자열로 처리된다.\n",
    "a = input(\"사용자 입력을 받아요\")\n",
    "print(a)\n"
   ]
  },
  {
   "cell_type": "code",
   "execution_count": 14,
   "metadata": {},
   "outputs": [
    {
     "name": "stdout",
     "output_type": "stream",
     "text": [
      "이번주 로또 번호 입력!!1 2 3 4 5 6 \n",
      "꽝입니다!!\n",
      "이번주 로또 번호 : {'42', '25', '28', '39', '19', '9'}\n",
      "맞춘 개수 : 0\n"
     ]
    }
   ],
   "source": [
    "# Lotto program 작성\n",
    "# 1~46까지의 숫자 중 6개의 난수를 중복 없이 발생\n",
    "# => 이번주 로또 번호\n",
    "# 사용자로부터 6개의 숫자를 다음과 같은 형식으로 입력 받음\n",
    "# 4, 15, 25,33,41,46 (,를 기준으로 숫자 6개 입력)\n",
    "# 6개 맞으면 1등, 5개 맞으면 2등, 4개 맞으면 3등, 3개 맞으면 3등, 나머지 꽝!!\n",
    "import random\n",
    "#a = random.randint(1,46)      # 난수 발생하는 코드\n",
    "\n",
    "lotto = set()        # 중복을 제거하기 위해\n",
    "while len(lotto)  != 6:\n",
    "    lotto.add(str(random.randint(1,46)))\n",
    "    \n",
    "user = input(\"이번주 로또 번호 입력!!\")\n",
    "user_set = set(user.split(\",\"))   #user라는 문자열을 \",\" 기준으로 list로 바꾸기\n",
    "\n",
    "count = len(lotto & user_set)\n",
    "if count ==6:\n",
    "    print(\"1등입니다!!\")\n",
    "elif count==5:\n",
    "    print(\"2등입니다!!\")\n",
    "elif count==4:\n",
    "    print(\"3등입니다!!\")\n",
    "elif count ==3:\n",
    "    print(\"4등입니다!!\")\n",
    "else:\n",
    "    print(\"꽝입니다!!\")\n",
    "    \n",
    "print(\"이번주 로또 번호 : {}\".format(lotto))\n",
    "print(\"맞춘 개수 : {}\".format(count))\n"
   ]
  },
  {
   "cell_type": "code",
   "execution_count": 38,
   "metadata": {},
   "outputs": [
    {
     "name": "stdout",
     "output_type": "stream",
     "text": [
      "숫자를 입력하세요1234560\n",
      "결과 : 256\n"
     ]
    }
   ],
   "source": [
    "#exercise\n",
    "\n",
    "#홀수 개의 숫자로 구성된 문자열 입력 받기 7이상 11이하\n",
    "#중앙 숫자를 기준으로 앞과 뒤 두개의 수로 분리한 후 수를 거꾸로 뒤집은 다음 두 수의 차를 구하기\n",
    "\n",
    "str = input(\"숫자를 입력하세요\")\n",
    "\n",
    "num = len(str) //2    #입력받은 숫자 길이를 2로 나눈 몫 값이 중앙 값 앞의 숫자\n",
    "str1 = str[:num]\n",
    "str2 = str[num+1:]\n",
    "\n",
    "list1=list(str1)\n",
    "list2=list(str2)\n",
    "\n",
    "list1.reverse()\n",
    "list2.reverse()\n",
    "\n",
    "str1 =\"\".join(list1)  #list => 문자열\n",
    "str2 =\"\".join(list2)  \n",
    "#list = str.split() : 문자열 => 리스트, 공백시 스페이스 기준\n",
    "\n",
    "int1 = int(str1)\n",
    "int2 = int(str2)\n",
    "\n",
    "result = 0\n",
    "\n",
    "if int1>int2:\n",
    "    result = int1 - int2\n",
    "else:\n",
    "    result = int2 - int1\n",
    "print(\"결과 : {}\".format(result))"
   ]
  },
  {
   "cell_type": "code",
   "execution_count": 9,
   "metadata": {},
   "outputs": [
    {
     "name": "stdout",
     "output_type": "stream",
     "text": [
      "<class 'datetime.date'>\n",
      "2019-02-13\n",
      "연도 : 2019, 월 : 2, 일 : 13\n",
      "2019-02-13 15:44:55.683157\n"
     ]
    }
   ],
   "source": [
    "# 날짜\n",
    "from datetime import date, datetime\n",
    "\n",
    "#오늘 날짜 구하기\n",
    "today = date.today()\n",
    "print(type(today))\n",
    "print(today)\n",
    "\n",
    "print(\"연도 : {}, 월 : {}, 일 : {}\".format(today.year, today.month, today.day))  #연도 : 2019, 월 : 2, 일 : 13\n",
    "\n",
    "#오늘 날짜와 시간을 구하기\n",
    "today= datetime.today()\n",
    "print(today)\n"
   ]
  },
  {
   "cell_type": "code",
   "execution_count": 1,
   "metadata": {},
   "outputs": [
    {
     "name": "stdout",
     "output_type": "stream",
     "text": [
      "2019-02-07\n",
      "2018-12-14 18:29:47.923245\n"
     ]
    }
   ],
   "source": [
    "#날짜 연산\n",
    "from datetime import date, datetime, timedelta\n",
    "from dateutil.relativedelta import relativedelta\n",
    "\n",
    "today = date.today()\n",
    "days = timedelta(weeks=-1)   #날짜를 기준으로 하루 전의 값 / delta값은 날짜,시간의 간격 값\n",
    "print(today+days)\n",
    "\n",
    "today = datetime.today()\n",
    "days = timedelta(hours=-7)   #날짜를 기준으로 하루 전의 값 / delta값은 날짜의 간격 값   \n",
    "#days, hours, minutes, seconds, weeks\n",
    "#years, months는 사용할 수 없다.\n",
    "months = relativedelta(months=-2)  #from dateutil.relativedelta import relativedelta 추가해서 사용해야 한다.\n",
    "#만약 현재 날짜가 3월 31일인데 1달 전 날짜를 구하면 2월 28일이 돼요.\n",
    "print(today+months)             "
   ]
  },
  {
   "cell_type": "code",
   "execution_count": 30,
   "metadata": {},
   "outputs": [
    {
     "name": "stdout",
     "output_type": "stream",
     "text": [
      "현재 시간은: 2019-02-13 16:22:20.631930\n",
      "현재 시간은: 19-02-13 16:22:20\n"
     ]
    }
   ],
   "source": [
    "# 날짜 formatting\n",
    "from datetime import datetime\n",
    "\n",
    "today = datetime.today()\n",
    "print(\"현재 시간은: {}\".format(today))    #현재 시간은: 2019-02-13 16:18:23.844084\n",
    "print(\"현재 시간은: {}\".format(today.strftime(\"%y-%m-%d %H:%M:%S\" )))    #현재 시간은: 19-02-13 16:22:20\n",
    "\n"
   ]
  },
  {
   "cell_type": "code",
   "execution_count": 33,
   "metadata": {},
   "outputs": [
    {
     "name": "stdout",
     "output_type": "stream",
     "text": [
      "이것은 소리없는 아우성!!\n"
     ]
    }
   ],
   "source": [
    "# print함수의 특징\n",
    "print(\"이것은\", end=\" \")   #end가 없으면 출력하고 줄바꿈. 줄 바꾸지 않고 end뒤에 있는 처리를 한다.\n",
    "print(\"소리없는\", end=\" \")\n",
    "print(\"아우성!!\")"
   ]
  },
  {
   "cell_type": "code",
   "execution_count": 81,
   "metadata": {},
   "outputs": [
    {
     "name": "stdout",
     "output_type": "stream",
     "text": [
      "숫자를 입력하세용12345\n"
     ]
    },
    {
     "data": {
      "text/plain": [
       "33"
      ]
     },
     "execution_count": 81,
     "metadata": {},
     "output_type": "execute_result"
    }
   ],
   "source": [
    "user = input(\"숫자를 입력하세용\")\n",
    "\n",
    "num = len(user) //2\n",
    "\n",
    "str1 = user[:num]\n",
    "str2 = user[num+1:]\n",
    "\n",
    "\n",
    "#list1 = str1.split()    #list로 결과를 return하는 것이지 list로 바뀌는 게 아님???\n",
    "#list2 = str2.split()\n",
    "list1 = list(str1)\n",
    "list2 = list(str2)\n",
    "list1.reverse()\n",
    "list2.reverse()\n",
    "\n",
    "str1 = \"\".join(list1)\n",
    "str2 = \"\".join(list2)\n",
    "\n",
    "int1=int(str1)\n",
    "int2=int(str2)\n",
    "\n",
    "result = 0\n",
    "if int1 > int2:\n",
    "    result =int1-int2\n",
    "else:\n",
    "    result=int2-int1\n",
    "result\n",
    "\n"
   ]
  }
 ],
 "metadata": {
  "kernelspec": {
   "display_name": "Python [conda env:asus_env]",
   "language": "python",
   "name": "conda-env-asus_env-py"
  },
  "language_info": {
   "codemirror_mode": {
    "name": "ipython",
    "version": 3
   },
   "file_extension": ".py",
   "mimetype": "text/x-python",
   "name": "python",
   "nbconvert_exporter": "python",
   "pygments_lexer": "ipython3",
   "version": "3.5.6"
  }
 },
 "nbformat": 4,
 "nbformat_minor": 2
}
